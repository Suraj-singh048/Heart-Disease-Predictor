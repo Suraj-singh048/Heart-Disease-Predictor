{
 "cells": [
  {
   "cell_type": "code",
   "execution_count": 1,
   "id": "8b6813a7-5ce9-48e3-8898-0d4b7d245d77",
   "metadata": {},
   "outputs": [],
   "source": [
    "import streamlit as st\n",
    "import pickle\n",
    "import pandas\n",
    "import random\n",
    "import numpy as np"
   ]
  },
  {
   "cell_type": "code",
   "execution_count": 2,
   "id": "eb147dcb-a8d3-4203-b37b-9a0b0f4f7c98",
   "metadata": {},
   "outputs": [],
   "source": [
    "model = pickle.load(open('gs-log-reg.model', 'rb'))\n",
    "\n",
    "data_file = '6.1 heart-disease.csv'\n",
    "df = pandas.read_csv(data_file)\n",
    "\n",
    "n = random.randint(0, len(df))\n",
    "data = df.iloc[[n]]"
   ]
  },
  {
   "cell_type": "code",
   "execution_count": 3,
   "id": "250abbcb-96ed-4542-b1aa-e76deb20d3b5",
   "metadata": {},
   "outputs": [
    {
     "name": "stdout",
     "output_type": "stream",
     "text": [
      "298    0\n",
      "Name: target, dtype: int64\n"
     ]
    },
    {
     "data": {
      "text/html": [
       "<div>\n",
       "<style scoped>\n",
       "    .dataframe tbody tr th:only-of-type {\n",
       "        vertical-align: middle;\n",
       "    }\n",
       "\n",
       "    .dataframe tbody tr th {\n",
       "        vertical-align: top;\n",
       "    }\n",
       "\n",
       "    .dataframe thead th {\n",
       "        text-align: right;\n",
       "    }\n",
       "</style>\n",
       "<table border=\"1\" class=\"dataframe\">\n",
       "  <thead>\n",
       "    <tr style=\"text-align: right;\">\n",
       "      <th></th>\n",
       "      <th>age</th>\n",
       "      <th>sex</th>\n",
       "      <th>cp</th>\n",
       "      <th>trestbps</th>\n",
       "      <th>chol</th>\n",
       "      <th>fbs</th>\n",
       "      <th>restecg</th>\n",
       "      <th>thalach</th>\n",
       "      <th>exang</th>\n",
       "      <th>oldpeak</th>\n",
       "      <th>slope</th>\n",
       "      <th>ca</th>\n",
       "      <th>thal</th>\n",
       "    </tr>\n",
       "  </thead>\n",
       "  <tbody>\n",
       "    <tr>\n",
       "      <th>298</th>\n",
       "      <td>57</td>\n",
       "      <td>0</td>\n",
       "      <td>0</td>\n",
       "      <td>140</td>\n",
       "      <td>241</td>\n",
       "      <td>0</td>\n",
       "      <td>1</td>\n",
       "      <td>123</td>\n",
       "      <td>1</td>\n",
       "      <td>0.2</td>\n",
       "      <td>1</td>\n",
       "      <td>0</td>\n",
       "      <td>3</td>\n",
       "    </tr>\n",
       "  </tbody>\n",
       "</table>\n",
       "</div>"
      ],
      "text/plain": [
       "     age  sex  cp  trestbps  chol  fbs  restecg  thalach  exang  oldpeak  \\\n",
       "298   57    0   0       140   241    0        1      123      1      0.2   \n",
       "\n",
       "     slope  ca  thal  \n",
       "298      1   0     3  "
      ]
     },
     "execution_count": 3,
     "metadata": {},
     "output_type": "execute_result"
    }
   ],
   "source": [
    "print(data['target'])\n",
    "del data['target']\n",
    "data"
   ]
  },
  {
   "cell_type": "code",
   "execution_count": 4,
   "id": "5d08f546-47a5-4b04-ab74-5c2f65698024",
   "metadata": {},
   "outputs": [
    {
     "data": {
      "text/plain": [
       "array([0], dtype=int64)"
      ]
     },
     "execution_count": 4,
     "metadata": {},
     "output_type": "execute_result"
    }
   ],
   "source": [
    "model.predict(data)"
   ]
  },
  {
   "cell_type": "code",
   "execution_count": 5,
   "id": "8fd796e0-2685-4a1e-9301-dcf8f0e35186",
   "metadata": {},
   "outputs": [],
   "source": [
    "# Define the features that predict the target as 1 for heart disease\n",
    "features = ['age', 'sex', 'cp', 'trestbps', 'chol', 'fbs', 'restecg', 'thalach', 'exang', 'oldpeak', 'slope', 'ca', 'thal']"
   ]
  },
  {
   "cell_type": "code",
   "execution_count": 6,
   "id": "d50c1445-c534-4418-9f7c-a549e3d746aa",
   "metadata": {},
   "outputs": [],
   "source": [
    "# Function to predict heart disease\n",
    "def predict_heart_disease(age, sex, cp, trestbps, chol, fbs, restecg, thalach, exang, oldpeak, slope, ca, thal):\n",
    "    input_data = pd.DataFrame({\n",
    "        'age': [age],\n",
    "        'sex': [sex],\n",
    "        'cp': [cp],\n",
    "        'trestbps': [trestbps],\n",
    "        'chol': [chol],\n",
    "        'fbs': [fbs],\n",
    "        'restecg': [restecg],\n",
    "        'thalach': [thalach],\n",
    "        'exang': [exang],\n",
    "        'oldpeak': [oldpeak],\n",
    "        'slope': [slope],\n",
    "        'ca': [ca],\n",
    "        'thal': [thal]\n",
    "    })\n",
    "    prediction = model.predict(input_data)\n",
    "    return prediction[0]"
   ]
  },
  {
   "cell_type": "code",
   "execution_count": 7,
   "id": "5a9b7d2b-bf37-4aff-bcc8-5add1c0f2304",
   "metadata": {},
   "outputs": [],
   "source": [
    "# Streamlit app\n",
    "def main():\n",
    "    st.title('Heart Disease Prediction')\n",
    "\n",
    "    # Display random sample data\n",
    "    st.subheader('Random Sample Data')\n",
    "    n = random.randint(0, len(df))\n",
    "    st.write(df.iloc[[n]])\n",
    "\n",
    "    # Collect user input for features\n",
    "    st.sidebar.subheader('Enter Patient Information')\n",
    "    user_input = {}\n",
    "    for feature in features:\n",
    "        user_input[feature] = st.sidebar.number_input(feature.capitalize(), value=0)\n",
    "\n",
    "    # Predict heart disease based on user input\n",
    "    if st.sidebar.button('Predict'):\n",
    "        prediction = predict_heart_disease(**user_input)\n",
    "        if prediction == 1:\n",
    "            st.write('The model predicts that the patient has heart disease.')\n",
    "        else:\n",
    "            st.write('The model predicts that the patient does not have heart disease.')"
   ]
  },
  {
   "cell_type": "code",
   "execution_count": 8,
   "id": "ad06d8c2-2edd-406d-8ba4-f6b7d1350ca6",
   "metadata": {},
   "outputs": [
    {
     "name": "stderr",
     "output_type": "stream",
     "text": [
      "2024-04-21 08:34:54.223 \n",
      "  \u001b[33m\u001b[1mWarning:\u001b[0m to view this Streamlit app on a browser, run it with the following\n",
      "  command:\n",
      "\n",
      "    streamlit run c:\\Users\\suraj\\Desktop\\projects\\heart-disease-project\\env\\lib\\site-packages\\ipykernel_launcher.py [ARGUMENTS]\n"
     ]
    }
   ],
   "source": [
    "if __name__ == '__main__':\n",
    "    main()"
   ]
  },
  {
   "cell_type": "code",
   "execution_count": 9,
   "id": "dd3de541-c65b-400f-a1aa-359ddc595ea9",
   "metadata": {},
   "outputs": [
    {
     "name": "stdout",
     "output_type": "stream",
     "text": [
      "^C\n"
     ]
    }
   ],
   "source": [
    "!streamlit run c:\\Users\\suraj\\Desktop\\projects\\heart-disease-project\\env\\lib\\site-packages\\ipykernel_launcher.py"
   ]
  }
 ],
 "metadata": {
  "kernelspec": {
   "display_name": "Python 3 (ipykernel)",
   "language": "python",
   "name": "python3"
  },
  "language_info": {
   "codemirror_mode": {
    "name": "ipython",
    "version": 3
   },
   "file_extension": ".py",
   "mimetype": "text/x-python",
   "name": "python",
   "nbconvert_exporter": "python",
   "pygments_lexer": "ipython3",
   "version": "3.10.13"
  }
 },
 "nbformat": 4,
 "nbformat_minor": 5
}
