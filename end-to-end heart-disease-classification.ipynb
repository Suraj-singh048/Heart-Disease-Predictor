{
 "cells": [
  {
   "cell_type": "markdown",
   "id": "145e7831-865f-406c-8efb-47f875d5eb72",
   "metadata": {},
   "source": [
    "# Predicting heart disease using machine learning\n",
    "This project deals with various Python-based machine learning and data science libraries in an attempt to build a machine learning model capable of predicting whether or not someone has heart disease based on their medical attributes."
   ]
  },
  {
   "cell_type": "markdown",
   "id": "f132947e-654d-49c3-b5e4-deb93e4c582b",
   "metadata": {},
   "source": [
    "## 1. Problem Statement\n",
    "> Given clinical parameters about a patient, can we predict whether or not they have a heart disease.\n",
    "\n",
    "## 2. Data\n",
    "The data we are using is open source data from The Cleavland data from the UCI Machine Leaning Repository, also available on Kaggle. https://archive.ics.uci.edu/dataset/45/heart+disease\n",
    "\n",
    "## 3. Evaluation\n",
    "> We aim to achieve 95% accuracy of predicting whether or not a patient has heart disease before full-proof deployment of our model."
   ]
  },
  {
   "cell_type": "code",
   "execution_count": null,
   "id": "9cd12304-fe4f-4182-9b32-62b3144d4e3a",
   "metadata": {},
   "outputs": [],
   "source": [
    "## Importing the tools\n",
    "\n",
    "# Regular EDA and plotting libraries\n",
    "import numpy as np\n",
    "import pandas as pd\n",
    "import matplotlib.pyplot as plt\n",
    "import seaborn as sns\n",
    "\n",
    "# for plotting inside our notebook\n",
    "%matplotlib inline\n",
    "\n",
    "# Models from Scikit-Learn\n",
    "from sklearn.linear_model import LogisticRegression\n",
    "from sklearn.neighbors import KNeighborsClassifier\n",
    "from sklearn.ensemble import RandomForestClassifier\n",
    "\n",
    "# For Model Evaluation\n",
    "from sklearn.model_selection import train_test_split, cross_val_score\n",
    "from sklearn.model_selection import RandomizedSearchCV, GridSearchCV\n",
    "from sklearn.metrics import confusion_matrix , classification_report\n",
    "from sklearn.metrics import precision_score, recall_score, f1_score\n",
    "from sklearn.metrics import plot_roc_curve\n",
    "\n",
    "# For saving our model\n",
    "import pickle"
   ]
  },
  {
   "cell_type": "markdown",
   "id": "d9e41795-f0a1-47b6-96cc-7c079d0a1a3e",
   "metadata": {},
   "source": [
    " ## Load Data"
   ]
  },
  {
   "cell_type": "code",
   "execution_count": null,
   "id": "e021d46a-b180-460c-968c-6905d65918ca",
   "metadata": {},
   "outputs": [],
   "source": [
    "df = pd.read_csv(\"6.1 heart-disease.csv\")\n",
    "df.shape"
   ]
  },
  {
   "cell_type": "markdown",
   "id": "1f49b0a9-5c17-4e8a-9a67-168decae97ec",
   "metadata": {},
   "source": [
    "## Exploratory Data Analysis (EDA)"
   ]
  },
  {
   "cell_type": "code",
   "execution_count": null,
   "id": "d3343bbe-a081-493c-93cc-225196590353",
   "metadata": {},
   "outputs": [],
   "source": [
    "df.head()"
   ]
  },
  {
   "cell_type": "code",
   "execution_count": null,
   "id": "3e1e6337-040f-4093-8dbf-ba769f0a506e",
   "metadata": {},
   "outputs": [],
   "source": [
    "# Checking data distribution balance\n",
    "df[\"target\"].value_counts().plot(kind=\"bar\", color=[\"lightpink\", \"lightblue\"]);"
   ]
  },
  {
   "cell_type": "code",
   "execution_count": null,
   "id": "e3da687c-e6df-46fc-ad5b-598871182c1d",
   "metadata": {},
   "outputs": [],
   "source": [
    "# Checking info about every attributes of data\n",
    "df.info()"
   ]
  },
  {
   "cell_type": "code",
   "execution_count": null,
   "id": "5b48e7a6-4721-4cdc-b5c8-a73bf766110d",
   "metadata": {},
   "outputs": [],
   "source": [
    " # Checking for missing values \n",
    "df.isna().sum()"
   ]
  },
  {
   "cell_type": "code",
   "execution_count": null,
   "id": "81e709ba-5b5f-43ef-9b39-6f45a14ec846",
   "metadata": {},
   "outputs": [],
   "source": [
    "# Getting more details about each attributes of data\n",
    "df.describe()"
   ]
  },
  {
   "cell_type": "markdown",
   "id": "97589ff3-01d5-4f3c-aae2-8a80089b7647",
   "metadata": {},
   "source": [
    "### Finding patterns in our data"
   ]
  },
  {
   "cell_type": "code",
   "execution_count": null,
   "id": "bb3cea86-bc3d-449c-a11e-db9320850f95",
   "metadata": {},
   "outputs": [],
   "source": [
    "# Finding relation between Sex and Target attributes\n",
    "df.sex.value_counts() # Checking distribution between males and females"
   ]
  },
  {
   "cell_type": "code",
   "execution_count": null,
   "id": "6bb0471f-634d-49ba-b79f-f4a359ca6118",
   "metadata": {},
   "outputs": [],
   "source": [
    "pd.crosstab(df.target, df.sex) # Comparing sex to target"
   ]
  },
  {
   "cell_type": "code",
   "execution_count": null,
   "id": "92730645-9a8d-4d9c-a6d6-8d2c59666bbf",
   "metadata": {},
   "outputs": [],
   "source": [
    "# Plotting above crosstab distribution\n",
    "pd.crosstab(df.target, df.sex).plot(kind=\"bar\",\n",
    "                                    figsize = (10,5),\n",
    "                                    color=[\"lightpink\", \"lightblue\"])\n",
    "plt.title(\"Heart disease frequency for Sex\")\n",
    "plt.xlabel(\"0 = Healthy, 1 = Heart Disease\")\n",
    "plt.ylabel(\"Amount\")\n",
    "plt.legend([\"Female\", \"Male\"])\n",
    "plt.xticks(rotation=0);\n"
   ]
  },
  {
   "cell_type": "code",
   "execution_count": null,
   "id": "e998e696-fab0-488c-b590-c2a529d63f08",
   "metadata": {},
   "outputs": [],
   "source": [
    "# Age vs. Max Heart Rate for Heart Disease\n",
    "plt.figure(figsize=(10,6))\n",
    "# Scatter with positive example\n",
    "plt.scatter(df.age[df.target==1],\n",
    "            df.thalach[df.target==1],\n",
    "            c=\"salmon\")\n",
    "# Scatter with negative example\n",
    "plt.scatter(df.age[df.target==0],\n",
    "            df.thalach[df.target==0],\n",
    "            c=\"lightblue\")\n",
    "plt.title(\"Age vs. Heart Rate in healthy and heart disease patients\")\n",
    "plt.xlabel(\"Age\")\n",
    "plt.ylabel(\"Max Heart Rate\")\n",
    "plt.legend([\"Heart Disease\", \"Healthy\"]);"
   ]
  },
  {
   "cell_type": "code",
   "execution_count": null,
   "id": "b661782a-2646-41f4-bd1d-8be6cb4afefd",
   "metadata": {},
   "outputs": [],
   "source": [
    "#checking age distribution\n",
    "df.age.plot.hist();"
   ]
  },
  {
   "cell_type": "markdown",
   "id": "e8010d0e-9f50-4e2a-b26a-a86db50de596",
   "metadata": {},
   "source": [
    "#### Most of our data range from 55 to 65 years old people "
   ]
  },
  {
   "cell_type": "markdown",
   "id": "c0e78775-76bd-43df-8d24-250154204b66",
   "metadata": {},
   "source": [
    "## Heart Disease frequency per chest pain type\n",
    "1. 0: Typical angina (Related to Heart Disease)\n",
    "2. 1: Atypical angina\n",
    "3. 2: Non-anginal pain\n",
    "4. 3: Asymptomatic"
   ]
  },
  {
   "cell_type": "code",
   "execution_count": null,
   "id": "1d217ef0-074e-4aa6-9457-0a2067c52e77",
   "metadata": {},
   "outputs": [],
   "source": [
    "pd.crosstab(df.cp, df.target)"
   ]
  },
  {
   "cell_type": "code",
   "execution_count": null,
   "id": "66f84ea2-24bc-4c0c-a7ad-1c28afbd1b9f",
   "metadata": {},
   "outputs": [],
   "source": [
    "pd.crosstab(df.cp, df.target).plot(kind = \"bar\",\n",
    "                                   figsize = (10,6),\n",
    "                                   color=[\"lightpink\", \"lightblue\"])\n",
    "plt.title(\"Heart Disease Frequency per Chest Pain Type\")\n",
    "plt.xlabel(\"Chest Pain type\")\n",
    "plt.ylabel(\"Amount\")\n",
    "plt.legend([\"No Disease\", \"Disease\"])\n",
    "plt.xticks(rotation=0);"
   ]
  },
  {
   "cell_type": "markdown",
   "id": "b1992921-0d58-4881-88e3-2d65c44328c7",
   "metadata": {},
   "source": [
    "### Making a correlation matrix"
   ]
  },
  {
   "cell_type": "code",
   "execution_count": null,
   "id": "f586f033-dbdc-4eb2-ada6-bde9c980d405",
   "metadata": {},
   "outputs": [],
   "source": [
    "df.corr()"
   ]
  },
  {
   "cell_type": "code",
   "execution_count": null,
   "id": "20c337e5-c01d-4712-af1e-633737a445aa",
   "metadata": {},
   "outputs": [],
   "source": [
    "corr_matrix = df.corr()\n",
    "fig, ax = plt.subplots(figsize=(15, 15))\n",
    "ax = sns.heatmap(corr_matrix,\n",
    "                 annot =True,\n",
    "                 linewidths=0.5,\n",
    "                 fmt=\".2f\",\n",
    "                 cmap=\"YlGnBu\");"
   ]
  },
  {
   "cell_type": "markdown",
   "id": "60b8181e-cf16-475a-b97b-1547c9f740e5",
   "metadata": {},
   "source": [
    "## 5. Modelling\n",
    "We will experiment with 3 classification models:\n",
    "1. Logistic Regression\n",
    "2. K-Near Neighbours Classifier\n",
    "3. Random Forest Classifier"
   ]
  },
  {
   "cell_type": "code",
   "execution_count": null,
   "id": "ed4e4081-9f0e-4b59-9b45-f46708bc5fd4",
   "metadata": {},
   "outputs": [],
   "source": [
    "# Split data into features and target variables\n",
    "x = df.drop(\"target\", axis = 1)\n",
    "y = df[\"target\"]"
   ]
  },
  {
   "cell_type": "code",
   "execution_count": null,
   "id": "31fd7732-1572-4e36-8a32-88c4ccd6bf36",
   "metadata": {},
   "outputs": [],
   "source": [
    "# Split data into training and test sets\n",
    "np.random.seed(42)\n",
    "x_train, x_test, y_train, y_test = train_test_split(x, y, test_size = 0.2)"
   ]
  },
  {
   "cell_type": "code",
   "execution_count": null,
   "id": "254265b9-62f2-416f-af43-7f234297f17d",
   "metadata": {},
   "outputs": [],
   "source": [
    "# Putting all models in a dictionaries\n",
    "models = {\"Logistic Regression\" : LogisticRegression(),\n",
    "          \"KNN\" : KNeighborsClassifier(),\n",
    "          \"Random Forest\" : RandomForestClassifier()}\n",
    "# Creating a function to fit and show score for each models\n",
    "def fit_and_score(models, x_train, x_test, y_train, y_test):\n",
    "    np.random.seed(42)\n",
    "    model_scores = {}\n",
    "    for name, model in models.items():\n",
    "        model.fit(x_train, y_train)\n",
    "        model_scores[name] = model.score(x_test, y_test)\n",
    "    return model_scores"
   ]
  },
  {
   "cell_type": "code",
   "execution_count": null,
   "id": "aa44f5de-3813-4889-b453-cf8ff3bd8078",
   "metadata": {},
   "outputs": [],
   "source": [
    "model_scores = fit_and_score(models=models,\n",
    "                            x_train = x_train,\n",
    "                            x_test = x_test,\n",
    "                            y_train = y_train,\n",
    "                            y_test = y_test)\n",
    "model_scores"
   ]
  },
  {
   "cell_type": "markdown",
   "id": "7416db91-446e-40e9-8582-3389d9130d8e",
   "metadata": {},
   "source": [
    "## Model comparison"
   ]
  },
  {
   "cell_type": "code",
   "execution_count": null,
   "id": "054fb4dd-172c-4e83-9ac4-55f5776693fd",
   "metadata": {},
   "outputs": [],
   "source": [
    "model_compare = pd.DataFrame(model_scores, index=[\"accuracy\"])\n",
    "model_compare.T.plot.bar();"
   ]
  },
  {
   "cell_type": "markdown",
   "id": "da8f175f-827e-40d6-97df-1450a22d05f4",
   "metadata": {},
   "source": [
    "### Metrics that we are going to consider:\n",
    "* feature importance\n",
    "* confusion matrix\n",
    "* cross-validation\n",
    "* precision\n",
    "* Recall\n",
    "* F1 score\n",
    "* classification report\n",
    "* ROC Curve\n",
    "* Area under the curve (AUC)\n",
    "\n",
    "**Hyperparameter Tuning**"
   ]
  },
  {
   "cell_type": "code",
   "execution_count": null,
   "id": "ea006398-a82f-40c6-999a-36f331b72586",
   "metadata": {},
   "outputs": [],
   "source": [
    "# Tunning KNN\n",
    "train_scores = []\n",
    "test_scores = []\n",
    "\n",
    "# Creating different n_neighbors to test on\n",
    "neighbors = range(1,21)\n",
    "\n",
    "# Setup KNN instance\n",
    "knn = KNeighborsClassifier()\n",
    "\n",
    "# Loop through different n_neighbors\n",
    "for i in neighbors:\n",
    "    knn.set_params(n_neighbors = i)\n",
    "    knn.fit(x_train, y_train)\n",
    "    train_scores.append(knn.score(x_train, y_train))\n",
    "    test_scores.append(knn.score(x_test, y_test))"
   ]
  },
  {
   "cell_type": "code",
   "execution_count": null,
   "id": "d1734043-fc82-4df0-ba0f-c0b881b551dd",
   "metadata": {},
   "outputs": [],
   "source": [
    "train_scores"
   ]
  },
  {
   "cell_type": "code",
   "execution_count": null,
   "id": "620d184f-4ffd-4e1b-bc56-dd9a8f34fd2f",
   "metadata": {},
   "outputs": [],
   "source": [
    "test_scores"
   ]
  },
  {
   "cell_type": "code",
   "execution_count": null,
   "id": "f1794d92-91d0-4d8a-9653-ffc24ba02de7",
   "metadata": {},
   "outputs": [],
   "source": [
    "plt.plot(neighbors, train_scores, label=\"Train score\")\n",
    "plt.plot(neighbors, test_scores, label=\"Test score\")\n",
    "plt.xticks(np.arange(1,21,1))\n",
    "plt.xlabel(\"Number of neighbors\")\n",
    "plt.ylabel(\"Model score\")\n",
    "plt.legend()\n",
    "best_n_neighbors_index = test_scores.index(max(test_scores))\n",
    "best_n_neighbors = neighbors[best_n_neighbors_index]\n",
    "print(f\"Maximum KNN score on the test data: {max(test_scores)*100:.2f}%, achieved with n_neighbors = {best_n_neighbors} \")"
   ]
  },
  {
   "cell_type": "markdown",
   "id": "ac6d8962-fffc-490a-8f3f-a9cb036a992b",
   "metadata": {},
   "source": [
    "## Hyperparameter tuning with RandomisedSearchCV\n",
    "Now we will tune following models:\n",
    "* LogisticRegression()\n",
    "* RandomForestClassifier()"
   ]
  },
  {
   "cell_type": "code",
   "execution_count": null,
   "id": "a2242497-aa70-48b8-8e9d-68b294b26a36",
   "metadata": {},
   "outputs": [],
   "source": [
    "# Creating a hyperparameter grid for LogisticRegression\n",
    "log_reg_grid = {\"C\": np.logspace(-4,4,20),\n",
    "               \"solver\":[\"liblinear\"]}\n",
    "\n",
    "# Creating a hyperparameter grid for RandomForestClassifier\n",
    "rf_grid = {\"n_estimators\": np.arange(10, 1000, 50),\n",
    "           \"max_depth\": [None, 3,5,10],\n",
    "           \"min_samples_split\": np.arange(2,20,2),\n",
    "           \"min_samples_leaf\": np.arange(1,20,2)}"
   ]
  },
  {
   "cell_type": "code",
   "execution_count": null,
   "id": "ea48348a-60d4-406c-9a0a-0a4957b7ed7c",
   "metadata": {},
   "outputs": [],
   "source": [
    "# Tuning LogisticRegression model\n",
    "\n",
    "np.random.seed(42)\n",
    "rs_log_reg = RandomizedSearchCV(LogisticRegression(),\n",
    "                                param_distributions=log_reg_grid,\n",
    "                                cv=5,\n",
    "                                n_iter=20,\n",
    "                                verbose=True)\n",
    "rs_log_reg.fit(x_train, y_train)"
   ]
  },
  {
   "cell_type": "code",
   "execution_count": null,
   "id": "b80120b5-e19f-4971-88df-11af23f70487",
   "metadata": {},
   "outputs": [],
   "source": [
    "rs_log_reg.best_params_"
   ]
  },
  {
   "cell_type": "code",
   "execution_count": null,
   "id": "b9d9f51f-c903-4ae3-9b10-ba79045b5d1a",
   "metadata": {},
   "outputs": [],
   "source": [
    "rs_log_reg.score(x_test, y_test)"
   ]
  },
  {
   "cell_type": "code",
   "execution_count": null,
   "id": "4e920cca-c74e-405c-aa7a-25509a3fc5f3",
   "metadata": {},
   "outputs": [],
   "source": [
    "# Hyperparameter tuning for RanRandomForestClassifier\n",
    "np.random.seed(42)\n",
    "\n",
    "rs_rf = RandomizedSearchCV(RandomForestClassifier(),\n",
    "                           param_distributions=rf_grid,\n",
    "                           cv=5,\n",
    "                           n_iter=20,\n",
    "                           verbose=True)\n",
    "rs_rf.fit(x_train, y_train)"
   ]
  },
  {
   "cell_type": "code",
   "execution_count": null,
   "id": "1bcac981-277b-4add-9a4e-dbd85fbcee3e",
   "metadata": {},
   "outputs": [],
   "source": [
    "rs_rf.best_params_"
   ]
  },
  {
   "cell_type": "code",
   "execution_count": null,
   "id": "1056ae93-0eff-48c0-aec3-cf8938df449b",
   "metadata": {},
   "outputs": [],
   "source": [
    "rs_rf.score(x_test, y_test)"
   ]
  },
  {
   "cell_type": "code",
   "execution_count": null,
   "id": "d68c2f48-aa08-4821-b27d-fec13d81f75c",
   "metadata": {},
   "outputs": [],
   "source": [
    "model_scores"
   ]
  },
  {
   "cell_type": "markdown",
   "id": "754f63c2-783c-4e67-9f0a-99f19be410b7",
   "metadata": {},
   "source": [
    "## Hyperparameter Tuning with GridSearchCV"
   ]
  },
  {
   "cell_type": "code",
   "execution_count": null,
   "id": "6f2c9a68-e6ed-4514-bcf6-6fd95d95447d",
   "metadata": {},
   "outputs": [],
   "source": [
    "# Setting Hyperparameters for LogisticRegression model\n",
    "log_reg_grid = {\"C\": np.logspace(-4, 4, 30),\n",
    "                \"solver\": [\"liblinear\"]}\n",
    "gs_log_reg = GridSearchCV(LogisticRegression(),\n",
    "                          param_grid=log_reg_grid,\n",
    "                          cv=15,\n",
    "                          verbose=True)\n",
    "gs_log_reg.fit(x_train, y_train);"
   ]
  },
  {
   "cell_type": "code",
   "execution_count": null,
   "id": "6108ef97-2df6-47f6-aed1-8a82b49ad3c8",
   "metadata": {},
   "outputs": [],
   "source": [
    "gs_log_reg.best_params_"
   ]
  },
  {
   "cell_type": "code",
   "execution_count": null,
   "id": "772d69aa-41c9-4032-b942-770f6631584c",
   "metadata": {},
   "outputs": [],
   "source": [
    "gs_log_reg.score(x_test, y_test)"
   ]
  },
  {
   "cell_type": "markdown",
   "id": "d86d9ead-25e4-4dcc-a532-6c3bc181a19e",
   "metadata": {},
   "source": [
    "## Evaluating our tuned machine learning classifier\n",
    "\n",
    "* ROC Curve and AUC Curve\n",
    "* Confusion Matrix\n",
    "* Classification report\n",
    "* Precision\n",
    "* Recall\n",
    "* F1-score"
   ]
  },
  {
   "cell_type": "code",
   "execution_count": null,
   "id": "883039e2-4f9c-478a-b59b-550ac41d7a8e",
   "metadata": {},
   "outputs": [],
   "source": [
    "y_preds = gs_log_reg.predict(x_test)\n",
    "y_preds"
   ]
  },
  {
   "cell_type": "code",
   "execution_count": null,
   "id": "260cefad-096b-441e-8f0d-1962dcba1ddd",
   "metadata": {},
   "outputs": [],
   "source": [
    "x_test.head()"
   ]
  },
  {
   "cell_type": "code",
   "execution_count": null,
   "id": "047cd2da-ec93-4873-814a-07329fc8f3fc",
   "metadata": {},
   "outputs": [],
   "source": [
    "# Plot ROC Curve and calculate AUC metric\n",
    "plot_roc_curve(gs_log_reg, x_test, y_test)"
   ]
  },
  {
   "cell_type": "code",
   "execution_count": null,
   "id": "2d937714-b23b-477f-bc05-0ffff8b6a8f3",
   "metadata": {},
   "outputs": [],
   "source": [
    "# Confusion matrix\n",
    "print(confusion_matrix(y_test, y_preds))"
   ]
  },
  {
   "cell_type": "code",
   "execution_count": null,
   "id": "0ef92311-329e-4e7f-84da-6ff669ca8892",
   "metadata": {},
   "outputs": [],
   "source": [
    "sns.set(font_scale=1.5)\n",
    "\n",
    "def plot_conf_mat(y_test, y_preds):\n",
    "    fig,ax = plt.subplots(figsize=(3,3))\n",
    "    ax = sns.heatmap(confusion_matrix(y_test, y_preds),\n",
    "                     annot=True,\n",
    "                     cbar=False)\n",
    "    plt.xlabel(\"True label\")\n",
    "    plt.ylabel(\"Predicted label\")\n",
    "\n",
    "plot_conf_mat(y_test, y_preds)"
   ]
  },
  {
   "cell_type": "code",
   "execution_count": null,
   "id": "ea616cb2-b1e4-4e61-b3e8-a0273b28442f",
   "metadata": {},
   "outputs": [],
   "source": [
    "# Classification report \n",
    "print(classification_report(y_test, y_preds))"
   ]
  },
  {
   "cell_type": "markdown",
   "id": "e3463efe-791b-4a7b-9410-eca4b73ecb5b",
   "metadata": {},
   "source": [
    "### Calculating evaluation metrics using cross validation\n",
    "Using `cross_val_score()`"
   ]
  },
  {
   "cell_type": "code",
   "execution_count": null,
   "id": "8b1358ec-6965-4880-8e4a-bd12501a9344",
   "metadata": {},
   "outputs": [],
   "source": [
    "gs_log_reg.best_params_"
   ]
  },
  {
   "cell_type": "code",
   "execution_count": null,
   "id": "4ef3cd6b-3052-486d-a398-f69a89597b04",
   "metadata": {},
   "outputs": [],
   "source": [
    " # Creating a new classifier with best parameters\n",
    "clf = LogisticRegression(C=0.20433597178569418,\n",
    "                         solver=\"liblinear\")"
   ]
  },
  {
   "cell_type": "code",
   "execution_count": null,
   "id": "c0afd1c0-2ec0-4192-aecb-4e38a8384c91",
   "metadata": {},
   "outputs": [],
   "source": [
    "## Cross-validated accuracy\n",
    "cv_acc = cross_val_score(clf,\n",
    "                         x,\n",
    "                         y,\n",
    "                        cv=5,\n",
    "                         scoring=\"accuracy\")\n",
    "cv_acc"
   ]
  },
  {
   "cell_type": "code",
   "execution_count": null,
   "id": "4cc62bd8-b96e-4d15-ac11-3714dbc65818",
   "metadata": {},
   "outputs": [],
   "source": [
    "cv_acc = np.mean(cv_acc)\n",
    "cv_acc"
   ]
  },
  {
   "cell_type": "code",
   "execution_count": null,
   "id": "7d0e07fa-9574-4b28-82de-7a8610e865ee",
   "metadata": {},
   "outputs": [],
   "source": [
    "# Cross-validated precision\n",
    "cv_precision = cross_val_score(clf,\n",
    "                               x,\n",
    "                               y,\n",
    "                               cv=5,\n",
    "                               scoring=\"precision\")\n",
    "cv_precision = np.mean(cv_precision)\n",
    "cv_precision"
   ]
  },
  {
   "cell_type": "code",
   "execution_count": null,
   "id": "43cae2a0-aad7-487b-8302-8fa1dda80d96",
   "metadata": {},
   "outputs": [],
   "source": [
    "# Cross-validated recall\n",
    "cv_recall = cross_val_score(clf,\n",
    "                               x,\n",
    "                               y,\n",
    "                               cv=5,\n",
    "                               scoring=\"recall\")\n",
    "cv_recall = np.mean(cv_recall)\n",
    "cv_recall"
   ]
  },
  {
   "cell_type": "code",
   "execution_count": null,
   "id": "4ff9fe3e-0d0b-4f39-86fe-8ef95da6cc04",
   "metadata": {},
   "outputs": [],
   "source": [
    "# Cross-validated f1\n",
    "cv_f1 = cross_val_score(clf,\n",
    "                               x,\n",
    "                               y,\n",
    "                               cv=5,\n",
    "                               scoring=\"f1\")\n",
    "cv_f1 = np.mean(cv_f1)\n",
    "cv_f1"
   ]
  },
  {
   "cell_type": "code",
   "execution_count": null,
   "id": "41aa43ad-973e-4489-8541-6485605c8670",
   "metadata": {},
   "outputs": [],
   "source": [
    "# Visualizing cross_validated metrics\n",
    "cv_metrics = pd.DataFrame({\"Accuracy\": cv_acc,\n",
    "                           \"Precision\": cv_precision,\n",
    "                           \"Recall\": cv_recall,\n",
    "                           \"F1\": cv_f1},\n",
    "                         index=[0])\n",
    "cv_metrics.T.plot.bar(title =\"Cross-validated classification metrics\",\n",
    "                     legend=False);"
   ]
  },
  {
   "cell_type": "markdown",
   "id": "57a7a252-2277-4b3a-90c2-68e706093dcd",
   "metadata": {},
   "source": [
    "### Feature Importance"
   ]
  },
  {
   "cell_type": "code",
   "execution_count": null,
   "id": "80d21207-c730-481f-9e56-f061ae0e7d69",
   "metadata": {},
   "outputs": [],
   "source": [
    "clf.fit(x_train, y_train);"
   ]
  },
  {
   "cell_type": "code",
   "execution_count": null,
   "id": "0bae4e97-ea80-44c3-8cf7-8dcda3226d0d",
   "metadata": {},
   "outputs": [],
   "source": [
    "clf.coef_"
   ]
  },
  {
   "cell_type": "code",
   "execution_count": null,
   "id": "567b54ff-3c30-4b5f-b1e5-a8d4aece853b",
   "metadata": {},
   "outputs": [],
   "source": [
    "# Matching coef's of features to columns\n",
    "feature_dict = dict(zip(df.columns, list(clf.coef_[0])))\n",
    "feature_dict"
   ]
  },
  {
   "cell_type": "code",
   "execution_count": null,
   "id": "741641e2-ee4c-4ed5-9101-c5ecb36e4acd",
   "metadata": {},
   "outputs": [],
   "source": [
    "# Visualize feature importance \n",
    "feature_df = pd.DataFrame(feature_dict, index=[0])\n",
    "feature_df.T.plot.bar(title =\"Feature Importance\", legend = False);"
   ]
  },
  {
   "cell_type": "code",
   "execution_count": null,
   "id": "5d239427-071b-4d23-bdc0-31c543fbb28b",
   "metadata": {},
   "outputs": [],
   "source": [
    "# Saving our best model\n",
    "pickle.dump(gs_log_reg, open('gs-log-reg.model', 'wb'))"
   ]
  },
  {
   "cell_type": "code",
   "execution_count": null,
   "id": "a3e0577e-07eb-485d-9d91-7bbdae9e735f",
   "metadata": {},
   "outputs": [],
   "source": []
  }
 ],
 "metadata": {
  "kernelspec": {
   "display_name": "Python 3 (ipykernel)",
   "language": "python",
   "name": "python3"
  },
  "language_info": {
   "codemirror_mode": {
    "name": "ipython",
    "version": 3
   },
   "file_extension": ".py",
   "mimetype": "text/x-python",
   "name": "python",
   "nbconvert_exporter": "python",
   "pygments_lexer": "ipython3",
   "version": "3.10.13"
  }
 },
 "nbformat": 4,
 "nbformat_minor": 5
}
